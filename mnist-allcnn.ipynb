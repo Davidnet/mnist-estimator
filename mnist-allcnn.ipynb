{
 "cells": [
  {
   "cell_type": "code",
   "execution_count": 9,
   "metadata": {
    "collapsed": true
   },
   "outputs": [],
   "source": [
    "import dataget as dg\n",
    "import tfinterface as ti\n",
    "import sonnet as snt\n",
    "import tensorflow as tf\n",
    "import numpy as np\n",
    "from matplotlib import pyplot as plt\n",
    "import cytoolz as cz\n",
    "from dicto import dicto\n",
    "\n",
    "sess = tf.InteractiveSession()\n",
    "params = dicto.load_(\"parameters.yml\")"
   ]
  },
  {
   "cell_type": "markdown",
   "metadata": {},
   "source": [
    "# The APIs\n",
    "Tensorflow includes 2 new APIs that help with a lot of common task and ensure good practices:\n",
    "* Dataset API: used for ETL purposes\n",
    "* Estimator API: helps with the common tasks of traning, evalauating and doing inference. Includes lots of tensorflow best practices.\n",
    "\n",
    "![estimator_architecture](https://cdn-images-1.medium.com/max/1600/1*zoNZvvuJb06yAghetc6BfQ.png)\n",
    "\n",
    "The Estimator API makes us implement a couple of functions:\n",
    "* `train_input_fn`\n",
    "* `test_input_fn`\n",
    "* `model_fn`\n",
    "\n",
    "Although you could fuse the input functions into a single function it you structure you code well. For more information I recommend these resouces:\n",
    "* [Higher-Level APIs in TensorFlow](https://medium.com/onfido-tech/higher-level-apis-in-tensorflow-67bfb602e6c0)\n",
    "* [Introduction to TensorFlow Datasets and Estimators](https://developers.googleblog.com/2017/09/introducing-tensorflow-datasets.html)"
   ]
  },
  {
   "cell_type": "markdown",
   "metadata": {},
   "source": [
    "## Dataget\n",
    "To download and import the MNIST dataset we will use `dataget` here but you can import the mnist however you want, there are various ways to import the mnist like using keras sample datasets. The first time you run this code `dataget` will download, extract, and transform the `MNIST` to jpg images; any subsequent calls use the cached data. "
   ]
  },
  {
   "cell_type": "code",
   "execution_count": 10,
   "metadata": {
    "collapsed": true
   },
   "outputs": [
    {
     "data": {
      "text/plain": [
       "Index(['class_id', 'filename'], dtype='object')"
      ]
     },
     "execution_count": 10,
     "metadata": {},
     "output_type": "execute_result"
    }
   ],
   "source": [
    "dataset = dg.data(\"mnist\").get()\n",
    "\n",
    "dataset.df.columns"
   ]
  },
  {
   "cell_type": "markdown",
   "metadata": {},
   "source": [
    "Dataget's `df` property give us the dataset as a pandas dataframe. The images are not loaded, it give us the absolute path of the image in the `filename` column and the corresping label in the `class_id` column. We will use TensorFlow to load the images.\n",
    "\n",
    "## Input\n",
    "The first thing we will do is create an input pipeline by implementing the `input_fn` function. This function will take a dataframe, the parameters, the training mode, and return a dictionary of feature tensors. Here we will heavily rely on the `Dataset` class in the `tf.data` module. It has many useful function to transform and filter data like:\n",
    "* `map`\n",
    "* `filter`\n",
    "* `flat_map`\n",
    "* `take`\n",
    "* `skip`\n",
    "* etc\n",
    "\n",
    "as well as methods to load data. \n",
    "\n",
    "Concretely our input function should take no arguments and return a`features` object, which can be a single tensor or a structure of tensors, and a`labels` tensor. We will create a function that accepts parameters and turn it into a parameter-less function by using a lambda later."
   ]
  },
  {
   "cell_type": "code",
   "execution_count": 31,
   "metadata": {},
   "outputs": [],
   "source": [
    "def input_fn(df, params, mode):\n",
    "    # helper function to read the data from a file\n",
    "    def parse(row):\n",
    "\n",
    "        img = tf.read_file(row[\"filename\"])\n",
    "        img = tf.image.decode_jpeg(img, channels = 1)\n",
    "        img = tf.image.resize_images(img, params.img_shape)\n",
    "\n",
    "        row[\"image\"] = img\n",
    "        \n",
    "        return row\n",
    "\n",
    "\n",
    "    # create the dataset from numpy arrays\n",
    "    ds = tf.data.Dataset.from_tensor_slices(dict(\n",
    "        filename = df.filename.as_matrix(), \n",
    "        class_id = df.class_id.as_matrix(),\n",
    "    ))\n",
    "    # read the images\n",
    "    ds = ds.map(parse)\n",
    "    \n",
    "    # if training, shuffle, batch, and repeat for n epochs\n",
    "    if mode == tf.estimator.ModeKeys.TRAIN:\n",
    "        ds = ds.shuffle(buffer_size = params.buffer_size)\n",
    "        ds = ds.apply(tf.contrib.data.batch_and_drop_remainder(params.batch_size))\n",
    "        ds = ds.repeat(params.epochs)\n",
    "    else:\n",
    "        ds = ds.batch(params.batch_size)\n",
    "    \n",
    "    # use prefetching to optimize training speed by getting data concurrently\n",
    "    # while the gpu performs training\n",
    "    ds = ds.prefetch(1)\n",
    "\n",
    "    # get iterator and feature tensors\n",
    "    iterator = ds.make_one_shot_iterator()\n",
    "    features = iterator.get_next()\n",
    "\n",
    "    return features, None"
   ]
  },
  {
   "cell_type": "markdown",
   "metadata": {},
   "source": [
    "Before testing our input pipeline we have to shuffle and split the data properly into training and testing. We can use dataget for this purpose."
   ]
  },
  {
   "cell_type": "code",
   "execution_count": 15,
   "metadata": {},
   "outputs": [],
   "source": [
    "df = dataset.df\n",
    "df = dg.shuffle(df)\n",
    "df_train, df_test = dg.split(df, 0.8)"
   ]
  },
  {
   "cell_type": "markdown",
   "metadata": {},
   "source": [
    "Now lets call our input function to get tensor operations that will iterate through our dataset."
   ]
  },
  {
   "cell_type": "code",
   "execution_count": 20,
   "metadata": {},
   "outputs": [
    {
     "name": "stdout",
     "output_type": "stream",
     "text": [
      "image: Tensor(\"IteratorGetNext_6:2\", shape=(64, 28, 28, 1), dtype=float32)\n",
      "class_id: Tensor(\"IteratorGetNext_6:0\", shape=(64,), dtype=int64)\n",
      "filename: Tensor(\"IteratorGetNext_6:1\", shape=(64,), dtype=string)\n"
     ]
    }
   ],
   "source": [
    "features, _ = input_fn(df_train, params, tf.estimator.ModeKeys.TRAIN)\n",
    "\n",
    "for name, tensor in features.items():\n",
    "    print(\"{}: {}\".format(name, tensor))"
   ]
  },
  {
   "cell_type": "markdown",
   "metadata": {},
   "source": [
    "Notice that they have a fixed batch size, but most importantly they are not placeholders! This is a little different from the common (naive?) way of feading data through `feed_dict` and you can do tons of optimizations.\n",
    "\n",
    "Now lets get a single batch of data by running our tensors. We will visualize the images using matplotlib."
   ]
  },
  {
   "cell_type": "code",
   "execution_count": 18,
   "metadata": {},
   "outputs": [
    {
     "name": "stdout",
     "output_type": "stream",
     "text": [
      "== INPUTS =====\n",
      "image: Tensor(\"IteratorGetNext_4:2\", shape=(64, 28, 28, 1), dtype=float32)\n",
      "class_id: Tensor(\"IteratorGetNext_4:0\", shape=(64,), dtype=int64)\n",
      "filename: Tensor(\"IteratorGetNext_4:1\", shape=(64,), dtype=string)\n",
      "===============\n"
     ]
    },
    {
     "name": "stderr",
     "output_type": "stream",
     "text": [
      "/usr/local/lib/python3.5/dist-packages/matplotlib/figure.py:418: UserWarning: matplotlib is currently using a non-GUI backend, so cannot show the figure\n",
      "  \"matplotlib is currently using a non-GUI backend, \"\n"
     ]
    },
    {
     "data": {
      "image/png": "[encoded data removed]",
      "text/plain": [
       "<matplotlib.figure.Figure at 0x7fcc7839d780>"
      ]
     },
     "metadata": {},
     "output_type": "display_data"
    },
    {
     "data": {
      "image/png": "[encoded data removed]",
      "text/plain": [
       "<matplotlib.figure.Figure at 0x7fcbf3647550>"
      ]
     },
     "metadata": {},
     "output_type": "display_data"
    },
    {
     "data": {
      "image/png": "[encoded data removed]",
      "text/plain": [
       "<matplotlib.figure.Figure at 0x7fcc50308d30>"
      ]
     },
     "metadata": {},
     "output_type": "display_data"
    },
    {
     "data": {
      "image/png": "[encoded data removed]",
      "text/plain": [
       "<matplotlib.figure.Figure at 0x7fcc09851550>"
      ]
     },
     "metadata": {},
     "output_type": "display_data"
    },
    {
     "data": {
      "image/png": "[encoded data removed]",
      "text/plain": [
       "<matplotlib.figure.Figure at 0x7fcc781f1b00>"
      ]
     },
     "metadata": {},
     "output_type": "display_data"
    },
    {
     "data": {
      "image/png": "[encoded data removed]",
      "text/plain": [
       "<matplotlib.figure.Figure at 0x7fcbf2b96550>"
      ]
     },
     "metadata": {},
     "output_type": "display_data"
    },
    {
     "data": {
      "image/png": "[encoded data removed]",
      "text/plain": [
       "<matplotlib.figure.Figure at 0x7fcc099c76d8>"
      ]
     },
     "metadata": {},
     "output_type": "display_data"
    },
    {
     "data": {
      "image/png": "[encoded data removed]",
      "text/plain": [
       "<matplotlib.figure.Figure at 0x7fcc0990e0f0>"
      ]
     },
     "metadata": {},
     "output_type": "display_data"
    },
    {
     "data": {
      "image/png": "[encoded data removed]",
      "text/plain": [
       "<matplotlib.figure.Figure at 0x7fcc8fb88eb8>"
      ]
     },
     "metadata": {},
     "output_type": "display_data"
    },
    {
     "data": {
      "image/png": "[encoded data removed]",
      "text/plain": [
       "<matplotlib.figure.Figure at 0x7fcbf2bb6080>"
      ]
     },
     "metadata": {},
     "output_type": "display_data"
    },
    {
     "data": {
      "image/png": "[encoded data removed]",
      "text/plain": [
       "<matplotlib.figure.Figure at 0x7fcc09af9b38>"
      ]
     },
     "metadata": {},
     "output_type": "display_data"
    },
    {
     "data": {
      "image/png": "[encoded data removed]",
      "text/plain": [
       "<matplotlib.figure.Figure at 0x7fcc0bf63da0>"
      ]
     },
     "metadata": {},
     "output_type": "display_data"
    }
   ],
   "source": [
    "image = features[\"image\"]\n",
    "class_id = features[\"class_id\"]\n",
    "    \n",
    "images, class_ids = sess.run([image, class_id])\n",
    "\n",
    "for tup in cz.partition(5, zip(images, class_ids)):\n",
    "\n",
    "    fig, axes = plt.subplots(1, 5, subplot_kw=dict())\n",
    "\n",
    "    for i, (img, class_id) in enumerate(tup):\n",
    "\n",
    "\n",
    "        img = np.squeeze(img).astype(np.uint8)\n",
    "\n",
    "        axes[i].imshow(img, cmap=\"gray\")\n",
    "        axes[i].title.set_text(class_id)\n",
    "        axes[i].get_yaxis().set_visible(False)\n",
    "        axes[i].get_xaxis().set_visible(False)\n",
    "\n",
    "    fig.show()\n",
    "\n",
    "plt.show()"
   ]
  },
  {
   "cell_type": "markdown",
   "metadata": {},
   "source": [
    "### Model Architecture\n",
    "The model architecture is arguably the funnest part of doing Deep Learning, also the part one less spends time coding. While it is not required by the Estimator API, its a good practice to split the code from the Neural Network architecture from the rest of the code and, if possible, make the architecture reusable. We get both of these benefits by using [sonnet](https://github.com/deepmind/sonnet) which is Deep Minds library that helps you create reusable structures.\n",
    "\n",
    "More precicely we will be creating a small [All Convolutional Neural Network](https://arxiv.org/abs/1412.6806) with the following structure:\n",
    "\n",
    "* Conv2D: 16 filters, kernel 4x4, stride 2, padding same, relu activation, batch normalization.\n",
    "* Conv2D: 32 filters, kernel 4x4, stride 2, padding same, relu activation, batch normalization.\n",
    "* Conv2D: 64 filters, kernel 3x3, stride 1, padding valid, relu activation, batch normalization.\n",
    "* Conv2D: 10 filters, kernel 3x3, stride 1, padding valid, relu activation.\n",
    "* Global Average Pooling\n",
    "* Softmax Activation\n",
    "\n",
    "#### Sonnet\n",
    "Using sonnet is easy, we just have to create a class that inherits from `sonnet.AbstractModule` and implement it `_build` method. `_build` takes an inputs object containing the inputs tensors, constructs the main graph of the neural network, and returns an output structure of tensors."
   ]
  },
  {
   "cell_type": "code",
   "execution_count": 21,
   "metadata": {},
   "outputs": [],
   "source": [
    "class AllCNNN(snt.AbstractModule):\n",
    "    \n",
    "    def __init__(self, *args, **kwargs):\n",
    "        kwargs[\"name\"] = kwargs.get(\"name\", \"AllCNN\")\n",
    "        super(AllCNNN, self).__init__(*args, **kwargs)\n",
    "    \n",
    "    def _build(self, inputs):\n",
    "        \n",
    "        print(\"##########################\")\n",
    "        print(\"## AllCNN\")\n",
    "        print(\"##########################\")\n",
    "        \n",
    "        net = inputs[\"image\"]; print(net)\n",
    "        training = inputs[\"mode\"] == tf.estimator.ModeKeys.TRAIN\n",
    "        \n",
    "        net = ti.layers.conv2d_batch_norm(net, 16, [4, 4], strides = 2, activation = tf.nn.relu, \n",
    "                                          padding = \"same\", batch_norm = dict(training = training)); print(net)\n",
    "        \n",
    "        \n",
    "        net = ti.layers.conv2d_batch_norm(net, 32, [4, 4], strides = 2, activation = tf.nn.relu, \n",
    "                                          padding = \"same\", batch_norm = dict(training = training)); print(net)\n",
    "        \n",
    "        \n",
    "        net = ti.layers.conv2d_batch_norm(net, 64, [3, 3], strides = 1, activation = tf.nn.relu, \n",
    "                                          padding = \"valid\", batch_norm = dict(training = training)); print(net)\n",
    "        \n",
    "        \n",
    "        net = tf.layers.conv2d(net, 10, [3, 3], strides = 1, activation = tf.nn.relu,\n",
    "                                          padding = \"valid\"); print(net)\n",
    "        \n",
    "        \n",
    "        \n",
    "        # global average pooling\n",
    "        logits = net = tf.reduce_mean(net, axis = [1, 2]); print(net)\n",
    "        \n",
    "        # predictions\n",
    "        predictions = net = tf.nn.softmax(logits); print(net)\n",
    "    \n",
    "        print(\"\")\n",
    "        \n",
    "        return logits, predictions"
   ]
  },
  {
   "cell_type": "markdown",
   "metadata": {},
   "source": [
    "Just to verify our architecture is correct we will create an input tensors and construct neural network using our `AllCNN` sonnet module."
   ]
  },
  {
   "cell_type": "code",
   "execution_count": 22,
   "metadata": {},
   "outputs": [
    {
     "name": "stdout",
     "output_type": "stream",
     "text": [
      "##########################\n",
      "## AllCNN\n",
      "##########################\n",
      "Tensor(\"input_layer_1:0\", shape=(?, 28, 28, 1), dtype=float32)\n",
      "Tensor(\"AllCNN/Conv2dBatchNorm/Relu:0\", shape=(?, 14, 14, 16), dtype=float32)\n",
      "Tensor(\"AllCNN/Conv2dBatchNorm_1/Relu:0\", shape=(?, 7, 7, 32), dtype=float32)\n",
      "Tensor(\"AllCNN/Conv2dBatchNorm_2/Relu:0\", shape=(?, 5, 5, 64), dtype=float32)\n",
      "Tensor(\"AllCNN/conv2d/Relu:0\", shape=(?, 3, 3, 10), dtype=float32)\n",
      "Tensor(\"AllCNN/Mean:0\", shape=(?, 10), dtype=float32)\n",
      "Tensor(\"AllCNN/Softmax:0\", shape=(?, 10), dtype=float32)\n",
      "\n"
     ]
    }
   ],
   "source": [
    "inputs = dict(\n",
    "    image = tf.layers.Input(shape=(28, 28, 1)),\n",
    "    mode = tf.estimator.ModeKeys.TRAIN,\n",
    ")\n",
    "\n",
    "all_cnn = AllCNNN()\n",
    "logits, predictions = all_cnn(inputs)"
   ]
  },
  {
   "cell_type": "markdown",
   "metadata": {},
   "source": [
    "### The Model\n",
    "Finally we can create our last piece in the estimator API, the model function. This function takes in 4 arguments:\n",
    "* `features` tensor/structure from `ìnput_fn`\n",
    "* `labels` tensor from `ìnput_fn`\n",
    "* `mode` enum indicating the current mode (training, testing or predicting)\n",
    "* `params` dict with hyperparameters and other information we might want to pass\n",
    "\n",
    "The model function should return a `tf.estimator.EstimatorSpec` with information such as `predictions`, `loss` and `train_op`, depending on the `mode`. Our model function is going to execute the following steps:\n",
    "1. Create the network architecture to get the predictions.\n",
    "1. Use the predictions and labels to construct the loss.\n",
    "1. Use the loss and construct the traning operation. It will use the Adam Optimizer as our algorithm to perform Stochastic Gradient Descent."
   ]
  },
  {
   "cell_type": "code",
   "execution_count": 23,
   "metadata": {
    "collapsed": true
   },
   "outputs": [],
   "source": [
    "def model_fn(features, labels, mode, params):\n",
    "    \n",
    "    inputs = features\n",
    "    inputs[\"mode\"] = mode\n",
    "    \n",
    "    # create networks\n",
    "    all_cnn = AllCNNN()\n",
    "    \n",
    "    # predictions\n",
    "    logits, predictions = all_cnn(inputs)\n",
    "    \n",
    "    \n",
    "    if mode == tf.estimator.ModeKeys.PREDICT:\n",
    "        return tf.estimator.EstimatorSpec(\n",
    "            mode = mode,\n",
    "            predictions = dict(\n",
    "                classes = predictions,\n",
    "                image = inputs[\"image\"],\n",
    "            )\n",
    "        )\n",
    "    \n",
    "    \n",
    "    # loss\n",
    "    labels = features[\"class_id\"]\n",
    "    onehot_labels = tf.one_hot(labels, 10)\n",
    "    \n",
    "    loss = tf.losses.softmax_cross_entropy(logits = logits, onehot_labels = onehot_labels)\n",
    "    loss = tf.reduce_mean(loss)\n",
    "    \n",
    "    if mode == tf.estimator.ModeKeys.EVAL:\n",
    "        return tf.estimator.EstimatorSpec(\n",
    "            mode = mode,\n",
    "            predictions = predictions,\n",
    "            loss = loss,\n",
    "            eval_metric_ops = dict(\n",
    "                accuracy = tf.metrics.accuracy(\n",
    "                    labels = labels,\n",
    "                    predictions = tf.argmax(predictions, axis = 1)\n",
    "                )\n",
    "            )\n",
    "        )\n",
    "    \n",
    "    #update\n",
    "    with tf.control_dependencies(tf.get_collection(tf.GraphKeys.UPDATE_OPS)):\n",
    "        update = tf.train.AdamOptimizer(params[\"learning_rate\"]).minimize(loss, global_step = tf.train.get_global_step())\n",
    "        \n",
    "    \n",
    "    accuracy = tf.contrib.metrics.accuracy(\n",
    "        labels = labels,\n",
    "        predictions = tf.argmax(predictions, axis = 1)\n",
    "    )\n",
    "        \n",
    "    # metrics\n",
    "    tf.summary.scalar(\"accuracy\", accuracy)\n",
    "    \n",
    "    \n",
    "    return tf.estimator.EstimatorSpec(\n",
    "        mode = mode,\n",
    "        predictions = predictions,\n",
    "        loss = loss,\n",
    "        train_op = update,\n",
    "        training_hooks = [\n",
    "            tf.train.LoggingTensorHook(\n",
    "                dict(\n",
    "                    loss = loss, \n",
    "                    accuracy = accuracy\n",
    "                ),  \n",
    "                every_n_iter = 50\n",
    "            )\n",
    "        ],\n",
    "    )"
   ]
  },
  {
   "cell_type": "markdown",
   "metadata": {},
   "source": [
    "## Estimator\n",
    "Now that we have all of our functions creating the Estimator object is quite easy. We just pass it the `model_fn`, a directory were we want to store our model, the params object. Here we additionally pass a `RunConfig` object to control the frequency of checkpoints and summaries."
   ]
  },
  {
   "cell_type": "code",
   "execution_count": 24,
   "metadata": {},
   "outputs": [
    {
     "name": "stdout",
     "output_type": "stream",
     "text": [
      "INFO:tensorflow:Using config: {'_keep_checkpoint_every_n_hours': 10000, '_service': None, '_log_step_count_steps': 100, '_model_dir': 'models/all_cnn', '_is_chief': True, '_master': '', '_num_ps_replicas': 0, '_session_config': None, '_task_type': 'worker', '_tf_random_seed': None, '_save_checkpoints_secs': None, '_save_summary_steps': 50, '_num_worker_replicas': 1, '_keep_checkpoint_max': 5, '_task_id': 0, '_save_checkpoints_steps': 50, '_cluster_spec': <tensorflow.python.training.server_lib.ClusterSpec object at 0x7fcc8fb40128>}\n"
     ]
    }
   ],
   "source": [
    "estimator = tf.estimator.Estimator(\n",
    "    model_fn = model_fn,\n",
    "    model_dir = params.model_dir,\n",
    "    params = params,\n",
    "    config = tf.estimator.RunConfig(save_checkpoints_steps = params.checkpoint_steps, save_summary_steps = params.summary_steps)\n",
    ")"
   ]
  },
  {
   "cell_type": "markdown",
   "metadata": {},
   "source": [
    "The estimator object by itself doesn't do anything but it contains the `train`, `evaluate` and `predict` methods which will do all the hard work. \n",
    "\n",
    "#### Train\n",
    "The `train` method accepts a parameterless `input_fn`, since our `input_fn` has parameters, we will just create a parameterless lambda that return our `input_fn` applied to the corresponding training parameters capture by the *closure* of the labmda. Excecuting this method will infact train our network!"
   ]
  },
  {
   "cell_type": "code",
   "execution_count": 26,
   "metadata": {},
   "outputs": [
    {
     "name": "stdout",
     "output_type": "stream",
     "text": [
      "##########################\n",
      "## AllCNN\n",
      "##########################\n",
      "Tensor(\"IteratorGetNext:2\", shape=(64, 28, 28, 1), dtype=float32, device=/device:CPU:0)\n",
      "Tensor(\"AllCNN/Conv2dBatchNorm/Relu:0\", shape=(64, 14, 14, 16), dtype=float32)\n",
      "Tensor(\"AllCNN/Conv2dBatchNorm_1/Relu:0\", shape=(64, 7, 7, 32), dtype=float32)\n",
      "Tensor(\"AllCNN/Conv2dBatchNorm_2/Relu:0\", shape=(64, 5, 5, 64), dtype=float32)\n",
      "Tensor(\"AllCNN/conv2d/Relu:0\", shape=(64, 3, 3, 10), dtype=float32)\n",
      "Tensor(\"AllCNN/Mean:0\", shape=(64, 10), dtype=float32)\n",
      "Tensor(\"AllCNN/Softmax:0\", shape=(64, 10), dtype=float32)\n",
      "\n",
      "WARNING:tensorflow:From /usr/local/lib/python3.5/dist-packages/tensorflow/python/ops/losses/losses_impl.py:691: softmax_cross_entropy_with_logits (from tensorflow.python.ops.nn_ops) is deprecated and will be removed in a future version.\n",
      "Instructions for updating:\n",
      "\n",
      "Future major versions of TensorFlow will allow gradients to flow\n",
      "into the labels input on backprop by default.\n",
      "\n",
      "See tf.nn.softmax_cross_entropy_with_logits_v2.\n",
      "\n",
      "INFO:tensorflow:Create CheckpointSaverHook.\n",
      "INFO:tensorflow:Saving checkpoints for 1 into models/all_cnn/model.ckpt.\n",
      "INFO:tensorflow:step = 1, loss = 2.326365\n",
      "INFO:tensorflow:accuracy = 0.09375, loss = 2.326365\n",
      "INFO:tensorflow:Saving checkpoints for 51 into models/all_cnn/model.ckpt.\n",
      "INFO:tensorflow:accuracy = 0.765625, loss = 0.84195435 (15.453 sec)\n",
      "INFO:tensorflow:Saving checkpoints for 101 into models/all_cnn/model.ckpt.\n",
      "INFO:tensorflow:global_step/sec: 2.75376\n",
      "INFO:tensorflow:step = 101, loss = 0.22741017 (36.315 sec)\n",
      "INFO:tensorflow:accuracy = 0.953125, loss = 0.22741017 (20.862 sec)\n",
      "INFO:tensorflow:Saving checkpoints for 151 into models/all_cnn/model.ckpt.\n",
      "INFO:tensorflow:accuracy = 0.96875, loss = 0.13731036 (20.256 sec)\n",
      "INFO:tensorflow:Saving checkpoints for 201 into models/all_cnn/model.ckpt.\n",
      "INFO:tensorflow:global_step/sec: 2.38684\n",
      "INFO:tensorflow:step = 201, loss = 0.19935995 (41.896 sec)\n",
      "INFO:tensorflow:accuracy = 0.953125, loss = 0.19935995 (21.640 sec)\n",
      "INFO:tensorflow:Saving checkpoints for 251 into models/all_cnn/model.ckpt.\n",
      "INFO:tensorflow:accuracy = 0.9375, loss = 0.17899075 (27.469 sec)\n",
      "INFO:tensorflow:Saving checkpoints for 301 into models/all_cnn/model.ckpt.\n",
      "INFO:tensorflow:global_step/sec: 1.5803\n",
      "INFO:tensorflow:step = 301, loss = 0.07412031 (63.279 sec)\n",
      "INFO:tensorflow:accuracy = 0.984375, loss = 0.07412031 (35.810 sec)\n",
      "INFO:tensorflow:Saving checkpoints for 351 into models/all_cnn/model.ckpt.\n",
      "INFO:tensorflow:accuracy = 0.984375, loss = 0.101899266 (37.962 sec)\n",
      "INFO:tensorflow:Saving checkpoints for 401 into models/all_cnn/model.ckpt.\n",
      "INFO:tensorflow:global_step/sec: 1.29138\n",
      "INFO:tensorflow:step = 401, loss = 0.14872237 (77.437 sec)\n",
      "INFO:tensorflow:accuracy = 0.96875, loss = 0.14872237 (39.476 sec)\n",
      "INFO:tensorflow:Saving checkpoints for 451 into models/all_cnn/model.ckpt.\n",
      "INFO:tensorflow:accuracy = 0.9375, loss = 0.15407321 (43.268 sec)\n",
      "INFO:tensorflow:Saving checkpoints for 501 into models/all_cnn/model.ckpt.\n",
      "INFO:tensorflow:global_step/sec: 1.20771\n",
      "INFO:tensorflow:step = 501, loss = 0.045762885 (82.801 sec)\n",
      "INFO:tensorflow:accuracy = 0.984375, loss = 0.045762885 (39.533 sec)\n",
      "INFO:tensorflow:Saving checkpoints for 551 into models/all_cnn/model.ckpt.\n",
      "INFO:tensorflow:accuracy = 1.0, loss = 0.017657973 (42.161 sec)\n",
      "INFO:tensorflow:Saving checkpoints for 601 into models/all_cnn/model.ckpt.\n",
      "INFO:tensorflow:global_step/sec: 1.35921\n",
      "INFO:tensorflow:step = 601, loss = 0.07838943 (73.572 sec)\n",
      "INFO:tensorflow:accuracy = 0.96875, loss = 0.07838943 (31.412 sec)\n",
      "INFO:tensorflow:Saving checkpoints for 651 into models/all_cnn/model.ckpt.\n",
      "INFO:tensorflow:accuracy = 0.984375, loss = 0.07201903 (34.187 sec)\n",
      "INFO:tensorflow:Saving checkpoints for 701 into models/all_cnn/model.ckpt.\n",
      "INFO:tensorflow:global_step/sec: 1.35036\n",
      "INFO:tensorflow:step = 701, loss = 0.14318725 (74.054 sec)\n",
      "INFO:tensorflow:accuracy = 0.96875, loss = 0.14318725 (39.868 sec)\n",
      "INFO:tensorflow:Saving checkpoints for 751 into models/all_cnn/model.ckpt.\n",
      "INFO:tensorflow:accuracy = 0.984375, loss = 0.041731168 (36.487 sec)\n",
      "INFO:tensorflow:Saving checkpoints for 801 into models/all_cnn/model.ckpt.\n",
      "INFO:tensorflow:global_step/sec: 1.34797\n",
      "INFO:tensorflow:step = 801, loss = 0.06048032 (74.186 sec)\n",
      "INFO:tensorflow:accuracy = 0.984375, loss = 0.06048032 (37.699 sec)\n",
      "INFO:tensorflow:Saving checkpoints for 851 into models/all_cnn/model.ckpt.\n",
      "INFO:tensorflow:accuracy = 0.984375, loss = 0.038726836 (39.937 sec)\n",
      "INFO:tensorflow:Saving checkpoints for 901 into models/all_cnn/model.ckpt.\n",
      "INFO:tensorflow:global_step/sec: 1.62282\n",
      "INFO:tensorflow:step = 901, loss = 0.012086087 (61.621 sec)\n",
      "INFO:tensorflow:accuracy = 1.0, loss = 0.012086087 (21.684 sec)\n",
      "INFO:tensorflow:Saving checkpoints for 951 into models/all_cnn/model.ckpt.\n",
      "INFO:tensorflow:accuracy = 0.984375, loss = 0.05067518 (4.906 sec)\n",
      "INFO:tensorflow:Saving checkpoints for 1001 into models/all_cnn/model.ckpt.\n",
      "INFO:tensorflow:global_step/sec: 11.1707\n",
      "INFO:tensorflow:step = 1001, loss = 0.101675004 (8.952 sec)\n",
      "INFO:tensorflow:accuracy = 0.984375, loss = 0.101675004 (4.046 sec)\n",
      "INFO:tensorflow:Saving checkpoints for 1051 into models/all_cnn/model.ckpt.\n",
      "INFO:tensorflow:accuracy = 0.984375, loss = 0.11941909 (4.413 sec)\n",
      "INFO:tensorflow:Saving checkpoints for 1101 into models/all_cnn/model.ckpt.\n",
      "INFO:tensorflow:global_step/sec: 11.4092\n",
      "INFO:tensorflow:step = 1101, loss = 0.021839462 (8.766 sec)\n",
      "INFO:tensorflow:accuracy = 1.0, loss = 0.021839462 (4.353 sec)\n",
      "INFO:tensorflow:Saving checkpoints for 1151 into models/all_cnn/model.ckpt.\n",
      "INFO:tensorflow:accuracy = 0.984375, loss = 0.051831715 (3.438 sec)\n",
      "INFO:tensorflow:Saving checkpoints for 1201 into models/all_cnn/model.ckpt.\n",
      "INFO:tensorflow:global_step/sec: 12.3746\n",
      "INFO:tensorflow:step = 1201, loss = 0.06841756 (8.080 sec)\n",
      "INFO:tensorflow:accuracy = 0.984375, loss = 0.06841756 (4.641 sec)\n",
      "INFO:tensorflow:Saving checkpoints for 1251 into models/all_cnn/model.ckpt.\n",
      "INFO:tensorflow:accuracy = 1.0, loss = 0.014423663 (2.303 sec)\n",
      "INFO:tensorflow:Saving checkpoints for 1301 into models/all_cnn/model.ckpt.\n",
      "INFO:tensorflow:global_step/sec: 21.7067\n",
      "INFO:tensorflow:step = 1301, loss = 0.07362101 (4.607 sec)\n",
      "INFO:tensorflow:accuracy = 0.984375, loss = 0.07362101 (2.303 sec)\n",
      "INFO:tensorflow:Saving checkpoints for 1351 into models/all_cnn/model.ckpt.\n",
      "INFO:tensorflow:accuracy = 0.9375, loss = 0.17399615 (1.166 sec)\n",
      "INFO:tensorflow:Saving checkpoints for 1401 into models/all_cnn/model.ckpt.\n",
      "INFO:tensorflow:global_step/sec: 25.3064\n",
      "INFO:tensorflow:step = 1401, loss = 0.041913256 (3.952 sec)\n",
      "INFO:tensorflow:accuracy = 0.984375, loss = 0.041913256 (2.785 sec)\n",
      "INFO:tensorflow:Saving checkpoints for 1451 into models/all_cnn/model.ckpt.\n",
      "INFO:tensorflow:accuracy = 0.984375, loss = 0.050210472 (1.458 sec)\n",
      "INFO:tensorflow:Saving checkpoints for 1501 into models/all_cnn/model.ckpt.\n",
      "INFO:tensorflow:global_step/sec: 38.3021\n",
      "INFO:tensorflow:step = 1501, loss = 0.023214728 (2.611 sec)\n",
      "INFO:tensorflow:accuracy = 0.984375, loss = 0.023214728 (1.153 sec)\n",
      "INFO:tensorflow:Saving checkpoints for 1551 into models/all_cnn/model.ckpt.\n",
      "INFO:tensorflow:accuracy = 1.0, loss = 0.023774993 (1.079 sec)\n",
      "INFO:tensorflow:Saving checkpoints for 1601 into models/all_cnn/model.ckpt.\n",
      "INFO:tensorflow:global_step/sec: 48.2253\n",
      "INFO:tensorflow:step = 1601, loss = 0.03315649 (2.075 sec)\n",
      "INFO:tensorflow:accuracy = 0.984375, loss = 0.03315649 (0.996 sec)\n",
      "INFO:tensorflow:Saving checkpoints for 1651 into models/all_cnn/model.ckpt.\n",
      "INFO:tensorflow:accuracy = 1.0, loss = 0.024050947 (0.980 sec)\n",
      "INFO:tensorflow:Saving checkpoints for 1701 into models/all_cnn/model.ckpt.\n",
      "INFO:tensorflow:global_step/sec: 50.7724\n",
      "INFO:tensorflow:step = 1701, loss = 0.021572111 (1.968 sec)\n",
      "INFO:tensorflow:accuracy = 0.984375, loss = 0.021572111 (0.988 sec)\n",
      "INFO:tensorflow:Saving checkpoints for 1751 into models/all_cnn/model.ckpt.\n",
      "INFO:tensorflow:accuracy = 1.0, loss = 0.008639308 (1.009 sec)\n",
      "INFO:tensorflow:Saving checkpoints for 1801 into models/all_cnn/model.ckpt.\n",
      "INFO:tensorflow:global_step/sec: 49.5888\n",
      "INFO:tensorflow:step = 1801, loss = 0.048885502 (2.017 sec)\n",
      "INFO:tensorflow:accuracy = 0.984375, loss = 0.048885502 (1.008 sec)\n",
      "INFO:tensorflow:Saving checkpoints for 1851 into models/all_cnn/model.ckpt.\n",
      "INFO:tensorflow:accuracy = 0.984375, loss = 0.048028428 (1.015 sec)\n",
      "INFO:tensorflow:Saving checkpoints for 1901 into models/all_cnn/model.ckpt.\n",
      "INFO:tensorflow:global_step/sec: 49.9091\n",
      "INFO:tensorflow:step = 1901, loss = 0.026637617 (2.004 sec)\n",
      "INFO:tensorflow:accuracy = 0.984375, loss = 0.026637617 (0.989 sec)\n",
      "INFO:tensorflow:Saving checkpoints for 1951 into models/all_cnn/model.ckpt.\n",
      "INFO:tensorflow:accuracy = 1.0, loss = 0.019742869 (0.985 sec)\n",
      "INFO:tensorflow:Saving checkpoints for 2001 into models/all_cnn/model.ckpt.\n",
      "INFO:tensorflow:global_step/sec: 50.4192\n",
      "INFO:tensorflow:step = 2001, loss = 0.014014253 (1.983 sec)\n",
      "INFO:tensorflow:accuracy = 0.984375, loss = 0.014014253 (0.999 sec)\n",
      "INFO:tensorflow:Saving checkpoints for 2051 into models/all_cnn/model.ckpt.\n",
      "INFO:tensorflow:accuracy = 0.984375, loss = 0.0529856 (0.978 sec)\n",
      "INFO:tensorflow:Saving checkpoints for 2101 into models/all_cnn/model.ckpt.\n",
      "INFO:tensorflow:global_step/sec: 50.6575\n",
      "INFO:tensorflow:step = 2101, loss = 0.057248168 (1.974 sec)\n",
      "INFO:tensorflow:accuracy = 0.984375, loss = 0.057248168 (0.996 sec)\n",
      "INFO:tensorflow:Saving checkpoints for 2151 into models/all_cnn/model.ckpt.\n",
      "INFO:tensorflow:accuracy = 0.984375, loss = 0.02689847 (0.985 sec)\n",
      "INFO:tensorflow:Saving checkpoints for 2201 into models/all_cnn/model.ckpt.\n",
      "INFO:tensorflow:global_step/sec: 49.9212\n",
      "INFO:tensorflow:step = 2201, loss = 0.005631662 (2.003 sec)\n",
      "INFO:tensorflow:accuracy = 1.0, loss = 0.005631662 (1.018 sec)\n",
      "INFO:tensorflow:Saving checkpoints for 2251 into models/all_cnn/model.ckpt.\n",
      "INFO:tensorflow:accuracy = 0.984375, loss = 0.035213612 (0.987 sec)\n",
      "INFO:tensorflow:Saving checkpoints for 2301 into models/all_cnn/model.ckpt.\n",
      "INFO:tensorflow:global_step/sec: 50.4793\n",
      "INFO:tensorflow:step = 2301, loss = 0.021886915 (1.981 sec)\n",
      "INFO:tensorflow:accuracy = 0.984375, loss = 0.021886915 (0.994 sec)\n",
      "INFO:tensorflow:Saving checkpoints for 2351 into models/all_cnn/model.ckpt.\n",
      "INFO:tensorflow:accuracy = 1.0, loss = 0.014284218 (0.985 sec)\n",
      "INFO:tensorflow:Saving checkpoints for 2401 into models/all_cnn/model.ckpt.\n",
      "INFO:tensorflow:global_step/sec: 50.5755\n",
      "INFO:tensorflow:step = 2401, loss = 0.09646095 (1.977 sec)\n",
      "INFO:tensorflow:accuracy = 0.984375, loss = 0.09646095 (0.993 sec)\n",
      "INFO:tensorflow:Saving checkpoints for 2451 into models/all_cnn/model.ckpt.\n",
      "INFO:tensorflow:accuracy = 0.984375, loss = 0.032661125 (0.987 sec)\n",
      "INFO:tensorflow:Saving checkpoints for 2501 into models/all_cnn/model.ckpt.\n",
      "INFO:tensorflow:global_step/sec: 50.5834\n",
      "INFO:tensorflow:step = 2501, loss = 0.01258129 (1.977 sec)\n",
      "INFO:tensorflow:accuracy = 1.0, loss = 0.01258129 (0.990 sec)\n",
      "INFO:tensorflow:Saving checkpoints for 2551 into models/all_cnn/model.ckpt.\n",
      "INFO:tensorflow:accuracy = 1.0, loss = 0.01369273 (0.990 sec)\n",
      "INFO:tensorflow:Saving checkpoints for 2601 into models/all_cnn/model.ckpt.\n",
      "INFO:tensorflow:global_step/sec: 50.0613\n",
      "INFO:tensorflow:step = 2601, loss = 0.018239297 (1.998 sec)\n",
      "INFO:tensorflow:accuracy = 1.0, loss = 0.018239297 (1.008 sec)\n",
      "INFO:tensorflow:Saving checkpoints for 2651 into models/all_cnn/model.ckpt.\n",
      "INFO:tensorflow:accuracy = 1.0, loss = 0.006442186 (1.032 sec)\n",
      "INFO:tensorflow:Saving checkpoints for 2701 into models/all_cnn/model.ckpt.\n",
      "INFO:tensorflow:global_step/sec: 49.6959\n",
      "INFO:tensorflow:step = 2701, loss = 0.09333292 (2.012 sec)\n",
      "INFO:tensorflow:accuracy = 0.984375, loss = 0.09333292 (0.980 sec)\n",
      "INFO:tensorflow:Saving checkpoints for 2751 into models/all_cnn/model.ckpt.\n",
      "INFO:tensorflow:accuracy = 0.984375, loss = 0.04633788 (1.043 sec)\n",
      "INFO:tensorflow:Saving checkpoints for 2801 into models/all_cnn/model.ckpt.\n",
      "INFO:tensorflow:global_step/sec: 41.308\n",
      "INFO:tensorflow:step = 2801, loss = 0.0066925664 (2.422 sec)\n",
      "INFO:tensorflow:accuracy = 1.0, loss = 0.0066925664 (1.379 sec)\n",
      "INFO:tensorflow:Saving checkpoints for 2851 into models/all_cnn/model.ckpt.\n",
      "INFO:tensorflow:accuracy = 0.984375, loss = 0.020340353 (1.008 sec)\n",
      "INFO:tensorflow:Saving checkpoints for 2901 into models/all_cnn/model.ckpt.\n",
      "INFO:tensorflow:global_step/sec: 49.7147\n",
      "INFO:tensorflow:step = 2901, loss = 0.03367761 (2.011 sec)\n",
      "INFO:tensorflow:accuracy = 1.0, loss = 0.03367761 (1.003 sec)\n",
      "INFO:tensorflow:Saving checkpoints for 2951 into models/all_cnn/model.ckpt.\n",
      "INFO:tensorflow:accuracy = 0.984375, loss = 0.036410175 (0.988 sec)\n",
      "INFO:tensorflow:Saving checkpoints for 3001 into models/all_cnn/model.ckpt.\n",
      "INFO:tensorflow:global_step/sec: 50.2948\n",
      "INFO:tensorflow:step = 3001, loss = 0.028350918 (1.988 sec)\n",
      "INFO:tensorflow:accuracy = 0.96875, loss = 0.028350918 (1.000 sec)\n",
      "INFO:tensorflow:Saving checkpoints for 3051 into models/all_cnn/model.ckpt.\n",
      "INFO:tensorflow:accuracy = 1.0, loss = 0.015357532 (0.982 sec)\n",
      "INFO:tensorflow:Saving checkpoints for 3101 into models/all_cnn/model.ckpt.\n",
      "INFO:tensorflow:global_step/sec: 50.3789\n",
      "INFO:tensorflow:step = 3101, loss = 0.02810093 (1.985 sec)\n",
      "INFO:tensorflow:accuracy = 0.984375, loss = 0.02810093 (1.003 sec)\n",
      "INFO:tensorflow:Saving checkpoints for 3151 into models/all_cnn/model.ckpt.\n",
      "INFO:tensorflow:accuracy = 0.984375, loss = 0.055098347 (0.984 sec)\n",
      "INFO:tensorflow:Saving checkpoints for 3201 into models/all_cnn/model.ckpt.\n",
      "INFO:tensorflow:global_step/sec: 50.841\n",
      "INFO:tensorflow:step = 3201, loss = 0.009795822 (1.967 sec)\n",
      "INFO:tensorflow:accuracy = 1.0, loss = 0.009795822 (0.983 sec)\n",
      "INFO:tensorflow:Saving checkpoints for 3251 into models/all_cnn/model.ckpt.\n",
      "INFO:tensorflow:accuracy = 1.0, loss = 0.002996266 (0.999 sec)\n",
      "INFO:tensorflow:Saving checkpoints for 3301 into models/all_cnn/model.ckpt.\n",
      "INFO:tensorflow:global_step/sec: 50.2652\n",
      "INFO:tensorflow:step = 3301, loss = 0.032973863 (1.989 sec)\n",
      "INFO:tensorflow:accuracy = 0.984375, loss = 0.032973863 (0.990 sec)\n",
      "INFO:tensorflow:Saving checkpoints for 3351 into models/all_cnn/model.ckpt.\n",
      "INFO:tensorflow:accuracy = 1.0, loss = 0.0034060904 (0.986 sec)\n",
      "INFO:tensorflow:Saving checkpoints for 3401 into models/all_cnn/model.ckpt.\n",
      "INFO:tensorflow:global_step/sec: 50.5957\n",
      "INFO:tensorflow:step = 3401, loss = 0.010004779 (1.976 sec)\n",
      "INFO:tensorflow:accuracy = 1.0, loss = 0.010004779 (0.990 sec)\n",
      "INFO:tensorflow:Saving checkpoints for 3451 into models/all_cnn/model.ckpt.\n",
      "INFO:tensorflow:accuracy = 1.0, loss = 0.02650587 (1.000 sec)\n",
      "INFO:tensorflow:Saving checkpoints for 3501 into models/all_cnn/model.ckpt.\n",
      "INFO:tensorflow:global_step/sec: 50.089\n",
      "INFO:tensorflow:step = 3501, loss = 0.055230737 (1.996 sec)\n",
      "INFO:tensorflow:accuracy = 0.984375, loss = 0.055230737 (0.996 sec)\n",
      "INFO:tensorflow:Saving checkpoints for 3551 into models/all_cnn/model.ckpt.\n",
      "INFO:tensorflow:accuracy = 1.0, loss = 0.0048537804 (0.991 sec)\n",
      "INFO:tensorflow:Saving checkpoints for 3601 into models/all_cnn/model.ckpt.\n",
      "INFO:tensorflow:global_step/sec: 50.0352\n",
      "INFO:tensorflow:step = 3601, loss = 0.021672834 (1.999 sec)\n",
      "INFO:tensorflow:accuracy = 1.0, loss = 0.021672834 (1.008 sec)\n",
      "INFO:tensorflow:Saving checkpoints for 3651 into models/all_cnn/model.ckpt.\n",
      "INFO:tensorflow:accuracy = 1.0, loss = 0.029059127 (0.987 sec)\n",
      "INFO:tensorflow:Saving checkpoints for 3701 into models/all_cnn/model.ckpt.\n",
      "INFO:tensorflow:global_step/sec: 50.4486\n",
      "INFO:tensorflow:step = 3701, loss = 0.009750385 (1.982 sec)\n",
      "INFO:tensorflow:accuracy = 1.0, loss = 0.009750385 (0.995 sec)\n",
      "INFO:tensorflow:Saving checkpoints for 3751 into models/all_cnn/model.ckpt.\n",
      "INFO:tensorflow:accuracy = 0.984375, loss = 0.024279606 (0.983 sec)\n",
      "INFO:tensorflow:Saving checkpoints for 3801 into models/all_cnn/model.ckpt.\n",
      "INFO:tensorflow:global_step/sec: 50.973\n",
      "INFO:tensorflow:step = 3801, loss = 0.01027812 (1.962 sec)\n",
      "INFO:tensorflow:accuracy = 1.0, loss = 0.01027812 (0.978 sec)\n",
      "INFO:tensorflow:Saving checkpoints for 3851 into models/all_cnn/model.ckpt.\n",
      "INFO:tensorflow:accuracy = 1.0, loss = 0.0046927505 (1.002 sec)\n",
      "INFO:tensorflow:Saving checkpoints for 3901 into models/all_cnn/model.ckpt.\n",
      "INFO:tensorflow:global_step/sec: 50.3924\n",
      "INFO:tensorflow:step = 3901, loss = 0.009612617 (1.986 sec)\n",
      "INFO:tensorflow:accuracy = 1.0, loss = 0.009612617 (0.984 sec)\n",
      "INFO:tensorflow:Saving checkpoints for 3951 into models/all_cnn/model.ckpt.\n",
      "INFO:tensorflow:accuracy = 0.984375, loss = 0.019810582 (0.990 sec)\n",
      "INFO:tensorflow:Saving checkpoints for 4001 into models/all_cnn/model.ckpt.\n",
      "INFO:tensorflow:global_step/sec: 49.9996\n",
      "INFO:tensorflow:step = 4001, loss = 0.0021959916 (2.000 sec)\n",
      "INFO:tensorflow:accuracy = 1.0, loss = 0.0021959916 (1.010 sec)\n",
      "INFO:tensorflow:Saving checkpoints for 4051 into models/all_cnn/model.ckpt.\n",
      "INFO:tensorflow:accuracy = 1.0, loss = 0.0012163108 (0.995 sec)\n",
      "INFO:tensorflow:Saving checkpoints for 4101 into models/all_cnn/model.ckpt.\n",
      "INFO:tensorflow:global_step/sec: 50.303\n",
      "INFO:tensorflow:step = 4101, loss = 0.014509333 (1.987 sec)\n",
      "INFO:tensorflow:accuracy = 1.0, loss = 0.014509333 (0.992 sec)\n",
      "INFO:tensorflow:Saving checkpoints for 4151 into models/all_cnn/model.ckpt.\n",
      "INFO:tensorflow:accuracy = 1.0, loss = 0.00912402 (0.993 sec)\n",
      "INFO:tensorflow:Saving checkpoints for 4201 into models/all_cnn/model.ckpt.\n",
      "INFO:tensorflow:global_step/sec: 50.2275\n",
      "INFO:tensorflow:step = 4201, loss = 0.0038925612 (1.991 sec)\n",
      "INFO:tensorflow:accuracy = 1.0, loss = 0.0038925612 (0.998 sec)\n",
      "INFO:tensorflow:Saving checkpoints for 4251 into models/all_cnn/model.ckpt.\n",
      "INFO:tensorflow:accuracy = 0.984375, loss = 0.03330139 (1.007 sec)\n",
      "INFO:tensorflow:Saving checkpoints for 4301 into models/all_cnn/model.ckpt.\n",
      "INFO:tensorflow:global_step/sec: 50.1637\n",
      "INFO:tensorflow:step = 4301, loss = 0.011734543 (1.993 sec)\n",
      "INFO:tensorflow:accuracy = 1.0, loss = 0.011734543 (0.986 sec)\n",
      "INFO:tensorflow:Saving checkpoints for 4351 into models/all_cnn/model.ckpt.\n",
      "INFO:tensorflow:accuracy = 1.0, loss = 0.012851635 (0.978 sec)\n",
      "INFO:tensorflow:Saving checkpoints for 4401 into models/all_cnn/model.ckpt.\n",
      "INFO:tensorflow:global_step/sec: 50.3896\n",
      "INFO:tensorflow:step = 4401, loss = 0.024364635 (1.985 sec)\n",
      "INFO:tensorflow:accuracy = 0.984375, loss = 0.024364635 (1.007 sec)\n",
      "INFO:tensorflow:Saving checkpoints for 4451 into models/all_cnn/model.ckpt.\n",
      "INFO:tensorflow:accuracy = 1.0, loss = 0.015218965 (0.997 sec)\n",
      "INFO:tensorflow:Saving checkpoints for 4501 into models/all_cnn/model.ckpt.\n",
      "INFO:tensorflow:global_step/sec: 50.0977\n",
      "INFO:tensorflow:step = 4501, loss = 0.007225939 (1.996 sec)\n",
      "INFO:tensorflow:accuracy = 1.0, loss = 0.007225939 (0.999 sec)\n",
      "INFO:tensorflow:Saving checkpoints for 4551 into models/all_cnn/model.ckpt.\n",
      "INFO:tensorflow:accuracy = 1.0, loss = 0.0029748753 (0.996 sec)\n",
      "INFO:tensorflow:Saving checkpoints for 4601 into models/all_cnn/model.ckpt.\n",
      "INFO:tensorflow:global_step/sec: 50.0324\n",
      "INFO:tensorflow:step = 4601, loss = 0.018513491 (1.999 sec)\n",
      "INFO:tensorflow:accuracy = 0.984375, loss = 0.018513491 (1.002 sec)\n",
      "INFO:tensorflow:Saving checkpoints for 4651 into models/all_cnn/model.ckpt.\n",
      "INFO:tensorflow:accuracy = 1.0, loss = 0.007915369 (0.996 sec)\n",
      "INFO:tensorflow:Saving checkpoints for 4701 into models/all_cnn/model.ckpt.\n",
      "INFO:tensorflow:global_step/sec: 50.3065\n",
      "INFO:tensorflow:step = 4701, loss = 0.00653355 (1.988 sec)\n",
      "INFO:tensorflow:accuracy = 1.0, loss = 0.00653355 (0.992 sec)\n",
      "INFO:tensorflow:Saving checkpoints for 4751 into models/all_cnn/model.ckpt.\n",
      "INFO:tensorflow:accuracy = 1.0, loss = 0.027315523 (0.993 sec)\n",
      "INFO:tensorflow:Saving checkpoints for 4801 into models/all_cnn/model.ckpt.\n",
      "INFO:tensorflow:global_step/sec: 50.4852\n",
      "INFO:tensorflow:step = 4801, loss = 0.005339887 (1.981 sec)\n",
      "INFO:tensorflow:accuracy = 1.0, loss = 0.005339887 (0.988 sec)\n",
      "INFO:tensorflow:Saving checkpoints for 4851 into models/all_cnn/model.ckpt.\n",
      "INFO:tensorflow:accuracy = 1.0, loss = 0.0136063425 (0.991 sec)\n",
      "INFO:tensorflow:Saving checkpoints for 4901 into models/all_cnn/model.ckpt.\n",
      "INFO:tensorflow:global_step/sec: 50.2955\n",
      "INFO:tensorflow:step = 4901, loss = 0.008483056 (1.988 sec)\n",
      "INFO:tensorflow:accuracy = 1.0, loss = 0.008483056 (0.997 sec)\n",
      "INFO:tensorflow:Saving checkpoints for 4951 into models/all_cnn/model.ckpt.\n",
      "INFO:tensorflow:accuracy = 0.984375, loss = 0.06172876 (0.995 sec)\n",
      "INFO:tensorflow:Saving checkpoints for 5001 into models/all_cnn/model.ckpt.\n",
      "INFO:tensorflow:global_step/sec: 50.2403\n",
      "INFO:tensorflow:step = 5001, loss = 0.015432437 (1.992 sec)\n",
      "INFO:tensorflow:accuracy = 0.984375, loss = 0.015432437 (0.997 sec)\n",
      "INFO:tensorflow:Saving checkpoints for 5051 into models/all_cnn/model.ckpt.\n",
      "INFO:tensorflow:accuracy = 1.0, loss = 0.006538937 (1.192 sec)\n",
      "INFO:tensorflow:Saving checkpoints for 5101 into models/all_cnn/model.ckpt.\n",
      "INFO:tensorflow:global_step/sec: 45.4706\n",
      "INFO:tensorflow:step = 5101, loss = 0.0043772813 (2.197 sec)\n",
      "INFO:tensorflow:accuracy = 1.0, loss = 0.0043772813 (1.005 sec)\n",
      "INFO:tensorflow:Saving checkpoints for 5151 into models/all_cnn/model.ckpt.\n",
      "INFO:tensorflow:accuracy = 0.96875, loss = 0.054437548 (0.992 sec)\n",
      "INFO:tensorflow:Saving checkpoints for 5201 into models/all_cnn/model.ckpt.\n",
      "INFO:tensorflow:global_step/sec: 50.144\n",
      "INFO:tensorflow:step = 5201, loss = 0.0032769772 (1.994 sec)\n",
      "INFO:tensorflow:accuracy = 1.0, loss = 0.0032769772 (1.002 sec)\n",
      "INFO:tensorflow:Saving checkpoints for 5251 into models/all_cnn/model.ckpt.\n",
      "INFO:tensorflow:accuracy = 1.0, loss = 0.0045436756 (1.003 sec)\n",
      "INFO:tensorflow:Saving checkpoints for 5301 into models/all_cnn/model.ckpt.\n",
      "INFO:tensorflow:global_step/sec: 49.9227\n",
      "INFO:tensorflow:step = 5301, loss = 0.0059802514 (2.003 sec)\n",
      "INFO:tensorflow:accuracy = 1.0, loss = 0.0059802514 (1.001 sec)\n",
      "INFO:tensorflow:Saving checkpoints for 5351 into models/all_cnn/model.ckpt.\n",
      "INFO:tensorflow:accuracy = 1.0, loss = 0.018562328 (0.980 sec)\n",
      "INFO:tensorflow:Saving checkpoints for 5401 into models/all_cnn/model.ckpt.\n",
      "INFO:tensorflow:global_step/sec: 50.4315\n",
      "INFO:tensorflow:step = 5401, loss = 0.04479762 (1.983 sec)\n",
      "INFO:tensorflow:accuracy = 0.984375, loss = 0.04479762 (1.003 sec)\n",
      "INFO:tensorflow:Saving checkpoints for 5451 into models/all_cnn/model.ckpt.\n",
      "INFO:tensorflow:accuracy = 1.0, loss = 0.014373643 (0.986 sec)\n",
      "INFO:tensorflow:Saving checkpoints for 5501 into models/all_cnn/model.ckpt.\n",
      "INFO:tensorflow:global_step/sec: 50.1798\n",
      "INFO:tensorflow:step = 5501, loss = 0.02044975 (1.993 sec)\n",
      "INFO:tensorflow:accuracy = 0.984375, loss = 0.02044975 (1.007 sec)\n",
      "INFO:tensorflow:Saving checkpoints for 5551 into models/all_cnn/model.ckpt.\n",
      "INFO:tensorflow:accuracy = 1.0, loss = 0.016184324 (1.005 sec)\n",
      "INFO:tensorflow:Saving checkpoints for 5601 into models/all_cnn/model.ckpt.\n",
      "INFO:tensorflow:global_step/sec: 49.7085\n",
      "INFO:tensorflow:step = 5601, loss = 0.017380346 (2.012 sec)\n",
      "INFO:tensorflow:accuracy = 0.984375, loss = 0.017380346 (1.006 sec)\n",
      "INFO:tensorflow:Saving checkpoints for 5651 into models/all_cnn/model.ckpt.\n",
      "INFO:tensorflow:accuracy = 0.984375, loss = 0.040893514 (0.987 sec)\n",
      "INFO:tensorflow:Saving checkpoints for 5701 into models/all_cnn/model.ckpt.\n",
      "INFO:tensorflow:global_step/sec: 49.1474\n",
      "INFO:tensorflow:step = 5701, loss = 0.0114862695 (2.051 sec)\n",
      "INFO:tensorflow:accuracy = 1.0, loss = 0.0114862695 (1.063 sec)\n",
      "INFO:tensorflow:Saving checkpoints for 5751 into models/all_cnn/model.ckpt.\n",
      "INFO:tensorflow:accuracy = 1.0, loss = 0.021990156 (0.994 sec)\n",
      "INFO:tensorflow:Saving checkpoints for 5801 into models/all_cnn/model.ckpt.\n",
      "INFO:tensorflow:global_step/sec: 49.8272\n",
      "INFO:tensorflow:step = 5801, loss = 0.051804863 (1.992 sec)\n",
      "INFO:tensorflow:accuracy = 0.984375, loss = 0.051804863 (0.999 sec)\n",
      "INFO:tensorflow:Saving checkpoints for 5851 into models/all_cnn/model.ckpt.\n",
      "INFO:tensorflow:accuracy = 1.0, loss = 0.0030681263 (4.574 sec)\n",
      "INFO:tensorflow:Saving checkpoints for 5901 into models/all_cnn/model.ckpt.\n",
      "INFO:tensorflow:global_step/sec: 17.9337\n",
      "INFO:tensorflow:step = 5901, loss = 0.1069696 (5.592 sec)\n",
      "INFO:tensorflow:accuracy = 0.96875, loss = 0.1069696 (1.018 sec)\n",
      "INFO:tensorflow:Saving checkpoints for 5951 into models/all_cnn/model.ckpt.\n",
      "INFO:tensorflow:accuracy = 1.0, loss = 0.017374873 (0.994 sec)\n",
      "INFO:tensorflow:Saving checkpoints for 6001 into models/all_cnn/model.ckpt.\n",
      "INFO:tensorflow:global_step/sec: 49.7017\n",
      "INFO:tensorflow:step = 6001, loss = 0.0018088466 (1.995 sec)\n",
      "INFO:tensorflow:accuracy = 1.0, loss = 0.0018088466 (1.001 sec)\n",
      "INFO:tensorflow:Saving checkpoints for 6051 into models/all_cnn/model.ckpt.\n",
      "INFO:tensorflow:accuracy = 1.0, loss = 0.012937873 (1.049 sec)\n",
      "INFO:tensorflow:Saving checkpoints for 6101 into models/all_cnn/model.ckpt.\n",
      "INFO:tensorflow:global_step/sec: 48.8845\n",
      "INFO:tensorflow:step = 6101, loss = 0.00077364454 (2.046 sec)\n",
      "INFO:tensorflow:accuracy = 1.0, loss = 0.00077364454 (0.997 sec)\n",
      "INFO:tensorflow:Saving checkpoints for 6151 into models/all_cnn/model.ckpt.\n",
      "INFO:tensorflow:accuracy = 1.0, loss = 0.00451349 (0.983 sec)\n",
      "INFO:tensorflow:Saving checkpoints for 6201 into models/all_cnn/model.ckpt.\n",
      "INFO:tensorflow:global_step/sec: 50.4956\n",
      "INFO:tensorflow:step = 6201, loss = 0.009676003 (1.982 sec)\n",
      "INFO:tensorflow:accuracy = 1.0, loss = 0.009676003 (0.999 sec)\n",
      "INFO:tensorflow:Saving checkpoints for 6251 into models/all_cnn/model.ckpt.\n",
      "INFO:tensorflow:accuracy = 1.0, loss = 0.016126046 (0.982 sec)\n",
      "INFO:tensorflow:Saving checkpoints for 6301 into models/all_cnn/model.ckpt.\n",
      "INFO:tensorflow:global_step/sec: 50.4789\n",
      "INFO:tensorflow:step = 6301, loss = 0.0012015449 (1.979 sec)\n",
      "INFO:tensorflow:accuracy = 1.0, loss = 0.0012015449 (0.998 sec)\n",
      "INFO:tensorflow:Saving checkpoints for 6351 into models/all_cnn/model.ckpt.\n",
      "INFO:tensorflow:accuracy = 1.0, loss = 0.0013733663 (0.992 sec)\n",
      "INFO:tensorflow:Saving checkpoints for 6401 into models/all_cnn/model.ckpt.\n",
      "INFO:tensorflow:global_step/sec: 50.3343\n",
      "INFO:tensorflow:step = 6401, loss = 0.0012903415 (1.987 sec)\n",
      "INFO:tensorflow:accuracy = 1.0, loss = 0.0012903415 (0.996 sec)\n",
      "INFO:tensorflow:Saving checkpoints for 6451 into models/all_cnn/model.ckpt.\n",
      "INFO:tensorflow:accuracy = 1.0, loss = 0.008620938 (0.984 sec)\n",
      "INFO:tensorflow:Saving checkpoints for 6501 into models/all_cnn/model.ckpt.\n",
      "INFO:tensorflow:global_step/sec: 50.747\n",
      "INFO:tensorflow:step = 6501, loss = 0.003874714 (1.970 sec)\n",
      "INFO:tensorflow:accuracy = 1.0, loss = 0.003874714 (0.986 sec)\n",
      "INFO:tensorflow:Saving checkpoints for 6551 into models/all_cnn/model.ckpt.\n",
      "INFO:tensorflow:accuracy = 1.0, loss = 0.0057029394 (0.987 sec)\n",
      "INFO:tensorflow:Saving checkpoints for 6601 into models/all_cnn/model.ckpt.\n",
      "INFO:tensorflow:global_step/sec: 50.4497\n",
      "INFO:tensorflow:step = 6601, loss = 0.01812153 (1.982 sec)\n",
      "INFO:tensorflow:accuracy = 0.984375, loss = 0.01812153 (0.996 sec)\n",
      "INFO:tensorflow:Saving checkpoints for 6651 into models/all_cnn/model.ckpt.\n",
      "INFO:tensorflow:accuracy = 0.984375, loss = 0.015725596 (0.982 sec)\n",
      "INFO:tensorflow:Saving checkpoints for 6701 into models/all_cnn/model.ckpt.\n",
      "INFO:tensorflow:global_step/sec: 50.858\n",
      "INFO:tensorflow:step = 6701, loss = 0.0039354167 (1.966 sec)\n",
      "INFO:tensorflow:accuracy = 1.0, loss = 0.0039354167 (0.983 sec)\n",
      "INFO:tensorflow:Saving checkpoints for 6751 into models/all_cnn/model.ckpt.\n",
      "INFO:tensorflow:accuracy = 1.0, loss = 0.012021394 (0.983 sec)\n",
      "INFO:tensorflow:Saving checkpoints for 6801 into models/all_cnn/model.ckpt.\n",
      "INFO:tensorflow:global_step/sec: 50.8192\n",
      "INFO:tensorflow:step = 6801, loss = 0.008379661 (1.968 sec)\n",
      "INFO:tensorflow:accuracy = 1.0, loss = 0.008379661 (0.985 sec)\n",
      "INFO:tensorflow:Saving checkpoints for 6851 into models/all_cnn/model.ckpt.\n",
      "INFO:tensorflow:accuracy = 1.0, loss = 0.0031075315 (0.987 sec)\n",
      "INFO:tensorflow:Saving checkpoints for 6901 into models/all_cnn/model.ckpt.\n",
      "INFO:tensorflow:global_step/sec: 50.517\n",
      "INFO:tensorflow:step = 6901, loss = 0.015856221 (1.979 sec)\n",
      "INFO:tensorflow:accuracy = 1.0, loss = 0.015856221 (0.992 sec)\n",
      "INFO:tensorflow:Saving checkpoints for 6951 into models/all_cnn/model.ckpt.\n",
      "INFO:tensorflow:accuracy = 1.0, loss = 0.0047022607 (0.985 sec)\n",
      "INFO:tensorflow:Saving checkpoints for 7001 into models/all_cnn/model.ckpt.\n",
      "INFO:tensorflow:global_step/sec: 50.6673\n",
      "INFO:tensorflow:step = 7001, loss = 0.0045210803 (1.974 sec)\n",
      "INFO:tensorflow:accuracy = 1.0, loss = 0.0045210803 (0.989 sec)\n",
      "INFO:tensorflow:Saving checkpoints for 7051 into models/all_cnn/model.ckpt.\n",
      "INFO:tensorflow:accuracy = 0.984375, loss = 0.053645156 (0.987 sec)\n",
      "INFO:tensorflow:Saving checkpoints for 7101 into models/all_cnn/model.ckpt.\n",
      "INFO:tensorflow:global_step/sec: 50.131\n",
      "INFO:tensorflow:step = 7101, loss = 0.07138847 (1.996 sec)\n",
      "INFO:tensorflow:accuracy = 0.984375, loss = 0.07138847 (1.009 sec)\n",
      "INFO:tensorflow:Saving checkpoints for 7151 into models/all_cnn/model.ckpt.\n",
      "INFO:tensorflow:accuracy = 0.984375, loss = 0.01842577 (0.988 sec)\n",
      "INFO:tensorflow:Saving checkpoints for 7201 into models/all_cnn/model.ckpt.\n",
      "INFO:tensorflow:global_step/sec: 50.264\n",
      "INFO:tensorflow:step = 7201, loss = 0.041440632 (1.988 sec)\n",
      "INFO:tensorflow:accuracy = 0.96875, loss = 0.041440632 (1.000 sec)\n",
      "INFO:tensorflow:Saving checkpoints for 7251 into models/all_cnn/model.ckpt.\n",
      "INFO:tensorflow:accuracy = 0.984375, loss = 0.037500232 (0.995 sec)\n",
      "INFO:tensorflow:Saving checkpoints for 7301 into models/all_cnn/model.ckpt.\n",
      "INFO:tensorflow:global_step/sec: 49.8865\n",
      "INFO:tensorflow:step = 7301, loss = 0.026353486 (2.005 sec)\n",
      "INFO:tensorflow:accuracy = 1.0, loss = 0.026353486 (1.009 sec)\n",
      "INFO:tensorflow:Saving checkpoints for 7351 into models/all_cnn/model.ckpt.\n",
      "INFO:tensorflow:accuracy = 0.984375, loss = 0.018775763 (0.979 sec)\n",
      "INFO:tensorflow:Saving checkpoints for 7401 into models/all_cnn/model.ckpt.\n",
      "INFO:tensorflow:global_step/sec: 50.6302\n",
      "INFO:tensorflow:step = 7401, loss = 0.0406998 (1.975 sec)\n",
      "INFO:tensorflow:accuracy = 0.984375, loss = 0.0406998 (0.996 sec)\n",
      "INFO:tensorflow:Saving checkpoints for 7451 into models/all_cnn/model.ckpt.\n",
      "INFO:tensorflow:accuracy = 1.0, loss = 0.005285467 (0.973 sec)\n",
      "INFO:tensorflow:Saving checkpoints for 7501 into models/all_cnn/model.ckpt.\n",
      "INFO:tensorflow:global_step/sec: 51.0164\n",
      "INFO:tensorflow:step = 7501, loss = 0.022595625 (1.960 sec)\n",
      "INFO:tensorflow:accuracy = 0.984375, loss = 0.022595625 (0.987 sec)\n",
      "INFO:tensorflow:Saving checkpoints for 7551 into models/all_cnn/model.ckpt.\n",
      "INFO:tensorflow:accuracy = 1.0, loss = 0.0009981629 (1.002 sec)\n",
      "INFO:tensorflow:Saving checkpoints for 7601 into models/all_cnn/model.ckpt.\n",
      "INFO:tensorflow:global_step/sec: 49.886\n",
      "INFO:tensorflow:step = 7601, loss = 0.00029482326 (2.006 sec)\n",
      "INFO:tensorflow:accuracy = 1.0, loss = 0.00029482326 (1.003 sec)\n",
      "INFO:tensorflow:Saving checkpoints for 7651 into models/all_cnn/model.ckpt.\n",
      "INFO:tensorflow:accuracy = 1.0, loss = 0.0013717868 (0.980 sec)\n",
      "INFO:tensorflow:Saving checkpoints for 7701 into models/all_cnn/model.ckpt.\n",
      "INFO:tensorflow:global_step/sec: 50.9871\n",
      "INFO:tensorflow:step = 7701, loss = 0.003011161 (1.960 sec)\n",
      "INFO:tensorflow:accuracy = 1.0, loss = 0.003011161 (0.981 sec)\n",
      "INFO:tensorflow:Saving checkpoints for 7751 into models/all_cnn/model.ckpt.\n",
      "INFO:tensorflow:accuracy = 1.0, loss = 0.0049104425 (0.988 sec)\n",
      "INFO:tensorflow:Saving checkpoints for 7801 into models/all_cnn/model.ckpt.\n",
      "INFO:tensorflow:global_step/sec: 50.751\n",
      "INFO:tensorflow:step = 7801, loss = 0.0010612978 (1.970 sec)\n",
      "INFO:tensorflow:accuracy = 1.0, loss = 0.0010612978 (0.982 sec)\n",
      "INFO:tensorflow:Saving checkpoints for 7851 into models/all_cnn/model.ckpt.\n",
      "INFO:tensorflow:accuracy = 1.0, loss = 0.004787809 (0.992 sec)\n",
      "INFO:tensorflow:Saving checkpoints for 7901 into models/all_cnn/model.ckpt.\n",
      "INFO:tensorflow:global_step/sec: 50.5296\n",
      "INFO:tensorflow:step = 7901, loss = 0.03053456 (1.979 sec)\n",
      "INFO:tensorflow:accuracy = 0.984375, loss = 0.03053456 (0.987 sec)\n",
      "INFO:tensorflow:Saving checkpoints for 7951 into models/all_cnn/model.ckpt.\n",
      "INFO:tensorflow:accuracy = 1.0, loss = 0.011160984 (0.984 sec)\n",
      "INFO:tensorflow:Saving checkpoints for 8001 into models/all_cnn/model.ckpt.\n",
      "INFO:tensorflow:global_step/sec: 50.4019\n",
      "INFO:tensorflow:step = 8001, loss = 0.0021941785 (1.985 sec)\n",
      "INFO:tensorflow:accuracy = 1.0, loss = 0.0021941785 (1.001 sec)\n",
      "INFO:tensorflow:Saving checkpoints for 8051 into models/all_cnn/model.ckpt.\n",
      "INFO:tensorflow:accuracy = 1.0, loss = 0.0018322992 (0.981 sec)\n",
      "INFO:tensorflow:Saving checkpoints for 8101 into models/all_cnn/model.ckpt.\n",
      "INFO:tensorflow:global_step/sec: 50.6025\n",
      "INFO:tensorflow:step = 8101, loss = 0.048212968 (1.975 sec)\n",
      "INFO:tensorflow:accuracy = 0.96875, loss = 0.048212968 (0.994 sec)\n",
      "INFO:tensorflow:Saving checkpoints for 8151 into models/all_cnn/model.ckpt.\n",
      "INFO:tensorflow:accuracy = 1.0, loss = 0.00025821506 (0.987 sec)\n",
      "INFO:tensorflow:Saving checkpoints for 8201 into models/all_cnn/model.ckpt.\n",
      "INFO:tensorflow:global_step/sec: 50.4631\n",
      "INFO:tensorflow:step = 8201, loss = 0.00040772927 (1.982 sec)\n",
      "INFO:tensorflow:accuracy = 1.0, loss = 0.00040772927 (0.994 sec)\n",
      "INFO:tensorflow:Saving checkpoints for 8251 into models/all_cnn/model.ckpt.\n",
      "INFO:tensorflow:accuracy = 1.0, loss = 0.0028880658 (0.972 sec)\n",
      "INFO:tensorflow:Saving checkpoints for 8301 into models/all_cnn/model.ckpt.\n",
      "INFO:tensorflow:global_step/sec: 50.726\n",
      "INFO:tensorflow:step = 8301, loss = 0.030198082 (1.971 sec)\n",
      "INFO:tensorflow:accuracy = 0.984375, loss = 0.030198082 (0.999 sec)\n",
      "INFO:tensorflow:Saving checkpoints for 8351 into models/all_cnn/model.ckpt.\n",
      "INFO:tensorflow:accuracy = 0.96875, loss = 0.08388851 (0.999 sec)\n",
      "INFO:tensorflow:Saving checkpoints for 8401 into models/all_cnn/model.ckpt.\n",
      "INFO:tensorflow:global_step/sec: 50.3389\n",
      "INFO:tensorflow:step = 8401, loss = 0.006052525 (1.986 sec)\n",
      "INFO:tensorflow:accuracy = 1.0, loss = 0.006052525 (0.988 sec)\n",
      "INFO:tensorflow:Saving checkpoints for 8451 into models/all_cnn/model.ckpt.\n",
      "INFO:tensorflow:accuracy = 1.0, loss = 0.0024331277 (0.981 sec)\n",
      "INFO:tensorflow:Saving checkpoints for 8501 into models/all_cnn/model.ckpt.\n",
      "INFO:tensorflow:global_step/sec: 50.7537\n",
      "INFO:tensorflow:step = 8501, loss = 0.0013404605 (1.971 sec)\n",
      "INFO:tensorflow:accuracy = 1.0, loss = 0.0013404605 (0.990 sec)\n",
      "INFO:tensorflow:Saving checkpoints for 8551 into models/all_cnn/model.ckpt.\n",
      "INFO:tensorflow:accuracy = 0.984375, loss = 0.04591823 (0.982 sec)\n",
      "INFO:tensorflow:Saving checkpoints for 8601 into models/all_cnn/model.ckpt.\n",
      "INFO:tensorflow:global_step/sec: 50.9071\n",
      "INFO:tensorflow:step = 8601, loss = 0.0029140299 (1.964 sec)\n",
      "INFO:tensorflow:accuracy = 1.0, loss = 0.0029140299 (0.982 sec)\n",
      "INFO:tensorflow:Saving checkpoints for 8651 into models/all_cnn/model.ckpt.\n",
      "INFO:tensorflow:accuracy = 1.0, loss = 0.00407918 (2.958 sec)\n",
      "INFO:tensorflow:Saving checkpoints for 8701 into models/all_cnn/model.ckpt.\n",
      "INFO:tensorflow:global_step/sec: 25.3411\n",
      "INFO:tensorflow:step = 8701, loss = 0.013825434 (3.946 sec)\n",
      "INFO:tensorflow:accuracy = 1.0, loss = 0.013825434 (0.988 sec)\n",
      "INFO:tensorflow:Saving checkpoints for 8750 into models/all_cnn/model.ckpt.\n",
      "INFO:tensorflow:Loss for final step: 0.004202882.\n"
     ]
    },
    {
     "data": {
      "text/plain": [
       "<tensorflow.python.estimator.estimator.Estimator at 0x7fcc8fb40e48>"
      ]
     },
     "execution_count": 26,
     "metadata": {},
     "output_type": "execute_result"
    }
   ],
   "source": [
    "estimator.train(\n",
    "    input_fn = lambda: input_fn(\n",
    "        df_train, \n",
    "        params,\n",
    "        tf.estimator.ModeKeys.TRAIN,\n",
    "    )\n",
    ")"
   ]
  },
  {
   "cell_type": "markdown",
   "metadata": {},
   "source": [
    "#### Evaluate\n",
    "To get some metrics about our models performance we will just use the `evaluate` method which also accepts a parameterless `input_fn`, we will also give it a lambda but this time we will pass the test dataset and change the mode to `EVAL`.\n",
    "\n",
    "`evaluate` will return the computed values of `eval_metric_ops` we gave to the `EstimatorSpec` in the `EVAL` model. "
   ]
  },
  {
   "cell_type": "code",
   "execution_count": 30,
   "metadata": {},
   "outputs": [
    {
     "name": "stdout",
     "output_type": "stream",
     "text": [
      "##########################\n",
      "## AllCNN\n",
      "##########################\n",
      "Tensor(\"IteratorGetNext:2\", shape=(?, 28, 28, 1), dtype=float32, device=/device:CPU:0)\n",
      "Tensor(\"AllCNN/Conv2dBatchNorm/Relu:0\", shape=(?, 14, 14, 16), dtype=float32)\n",
      "Tensor(\"AllCNN/Conv2dBatchNorm_1/Relu:0\", shape=(?, 7, 7, 32), dtype=float32)\n",
      "Tensor(\"AllCNN/Conv2dBatchNorm_2/Relu:0\", shape=(?, 5, 5, 64), dtype=float32)\n",
      "Tensor(\"AllCNN/conv2d/Relu:0\", shape=(?, 3, 3, 10), dtype=float32)\n",
      "Tensor(\"AllCNN/Mean:0\", shape=(?, 10), dtype=float32)\n",
      "Tensor(\"AllCNN/Softmax:0\", shape=(?, 10), dtype=float32)\n",
      "\n",
      "INFO:tensorflow:Starting evaluation at 2018-02-14-06:34:33\n",
      "INFO:tensorflow:Restoring parameters from models/all_cnn/model.ckpt-8750\n",
      "INFO:tensorflow:Finished evaluation at 2018-02-14-06:38:10\n",
      "INFO:tensorflow:Saving dict for global step 8750: accuracy = 0.98792857, global_step = 8750, loss = 0.04374729\n"
     ]
    },
    {
     "data": {
      "text/plain": [
       "{'accuracy': 0.98792857, 'global_step': 8750, 'loss': 0.04374729}"
      ]
     },
     "execution_count": 30,
     "metadata": {},
     "output_type": "execute_result"
    }
   ],
   "source": [
    "metrics = estimator.evaluate(\n",
    "    input_fn = lambda: input_fn(\n",
    "        df_test, \n",
    "        params,\n",
    "        tf.estimator.ModeKeys.EVAL,\n",
    "    )\n",
    ")\n",
    "\n",
    "metrics"
   ]
  },
  {
   "cell_type": "markdown",
   "metadata": {},
   "source": [
    "#### Predict\n",
    "Similar to the previous methods, `predict` take the `input_fn` function but returns an iterator of the predictions for us to evaluate one by one. Firt we will just create the iterator"
   ]
  },
  {
   "cell_type": "code",
   "execution_count": 32,
   "metadata": {},
   "outputs": [],
   "source": [
    "iterator = estimator.predict(\n",
    "    input_fn = lambda: input_fn(\n",
    "        df_test, \n",
    "        params,\n",
    "        tf.estimator.ModeKeys.PREDICT,\n",
    "    )\n",
    ")"
   ]
  },
  {
   "cell_type": "markdown",
   "metadata": {},
   "source": [
    "and to end this tutorial we will perform inference some images from the test set and visualize the results! The number on top of the image is the predicted class (which should usually match), you can repeatedly run this cell to get different results."
   ]
  },
  {
   "cell_type": "code",
   "execution_count": 39,
   "metadata": {},
   "outputs": [
    {
     "data": {
      "image/png": "[encoded data removed]",
      "text/plain": [
       "<matplotlib.figure.Figure at 0x7fcbd85efcf8>"
      ]
     },
     "metadata": {},
     "output_type": "display_data"
    }
   ],
   "source": [
    "predictions = next(iterator)\n",
    "\n",
    "img = predictions[\"image\"]\n",
    "class_id = np.argmax(predictions[\"classes\"])\n",
    "\n",
    "ax = plt.axes()\n",
    "\n",
    "plt.imshow(img[:, :, 0], cmap=\"gray\")\n",
    "\n",
    "ax.title.set_text(class_id)\n",
    "ax.get_yaxis().set_visible(False)\n",
    "ax.get_xaxis().set_visible(False)\n",
    "\n",
    "plt.show()"
   ]
  }
 ],
 "metadata": {
  "kernelspec": {
   "display_name": "Python 3",
   "language": "python",
   "name": "python3"
  },
  "language_info": {
   "codemirror_mode": {
    "name": "ipython",
    "version": 3
   },
   "file_extension": ".py",
   "mimetype": "text/x-python",
   "name": "python",
   "nbconvert_exporter": "python",
   "pygments_lexer": "ipython3",
   "version": "3.5.2"
  }
 },
 "nbformat": 4,
 "nbformat_minor": 2
}
